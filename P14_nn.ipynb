{
 "cells": [
  {
   "cell_type": "markdown",
   "metadata": {},
   "source": [
    "# 1. nn.Module模块使用\n",
    "① nn.Module是对所有神经网络提供一个基本的类。我们的神经网络是继承nn.Module这个类，即nn.Module为父类，nn.Module为所有神经网络提供一个模板，对其中一些我们不满意的部分进行修改。\n",
    "\n",
    "② [super(XXX, self).init()](https://www.jb51.net/article/258207.htm)——对继承自父类的属性进行初始化，并且用父类的初始化方法初始化继承的属性。"
   ]
  },
  {
   "cell_type": "code",
   "execution_count": 4,
   "metadata": {},
   "outputs": [
    {
     "name": "stdout",
     "output_type": "stream",
     "text": [
      "i can called like a function\n",
      "传入参数的类型是：<class 'torch.Tensor'>   值为： 1.0\n",
      "forward 函数被调用了\n",
      "in  forward, 传入参数类型是：<class 'torch.Tensor'>  值为: 1.0\n",
      "tensor(2.)\n"
     ]
    }
   ],
   "source": [
    "import torch\n",
    "from torch import nn\n",
    "\n",
    "class Tudui(nn.Module):\n",
    "    def __init__(self):\n",
    "        super(Tudui, self).__init__()\n",
    "\n",
    "    def __call__(self, param):\n",
    "        print('i can called like a function')\n",
    "        print('传入参数的类型是：{}   值为： {}'.format(type(param), param))\n",
    "        res = self.forward(param)\n",
    "        return res\n",
    "        \n",
    "    def forward(self, input_):\n",
    "        output = input_ + 1\n",
    "        print('forward 函数被调用了')\n",
    "        print('in  forward, 传入参数类型是：{}  值为: {}'.format( type(input_), input_))\n",
    "        return output\n",
    "\n",
    "tudui = Tudui()\n",
    "x = torch.tensor(1.0)\n",
    "output = tudui(x)\n",
    "print(output)\n"
   ]
  },
  {
   "cell_type": "markdown",
   "metadata": {},
   "source": [
    "## 1.1. forward函数\n",
    "① 使用pytorch的时候，不需要手动调用forward函数，只要在实例化一个对象中传入对应的参数就可以自动调用 forward 函数。\n",
    "\n",
    "② 因为 PyTorch 中的大部分方法都继承自 torch.nn.Module，而 torch.nn.Module 的__call__(self)函数中会返回 forward()函数 的结果，因此PyTroch中的 forward()函数等于是被嵌套在了__call__(self)函数中；因此forward()函数可以直接通过类名被调用，而不用实例化对象。"
   ]
  }
 ],
 "metadata": {
  "kernelspec": {
   "display_name": "yolov5_frog38",
   "language": "python",
   "name": "python3"
  },
  "language_info": {
   "codemirror_mode": {
    "name": "ipython",
    "version": 3
   },
   "file_extension": ".py",
   "mimetype": "text/x-python",
   "name": "python",
   "nbconvert_exporter": "python",
   "pygments_lexer": "ipython3",
   "version": "3.8.18"
  }
 },
 "nbformat": 4,
 "nbformat_minor": 2
}
