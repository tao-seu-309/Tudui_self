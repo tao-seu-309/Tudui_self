{
 "cells": [
  {
   "cell_type": "code",
   "execution_count": 2,
   "metadata": {},
   "outputs": [
    {
     "name": "stdout",
     "output_type": "stream",
     "text": [
      "<PIL.JpegImagePlugin.JpegImageFile image mode=RGB size=1026x392 at 0x7FF7B8188280>\n",
      "torch.Size([3, 32, 32])\n",
      "Tudui(\n",
      "  (model): Sequential(\n",
      "    (0): Conv2d(3, 32, kernel_size=(5, 5), stride=(1, 1), padding=(2, 2))\n",
      "    (1): MaxPool2d(kernel_size=2, stride=2, padding=0, dilation=1, ceil_mode=False)\n",
      "    (2): Conv2d(32, 32, kernel_size=(5, 5), stride=(1, 1), padding=(2, 2))\n",
      "    (3): MaxPool2d(kernel_size=2, stride=2, padding=0, dilation=1, ceil_mode=False)\n",
      "    (4): Conv2d(32, 64, kernel_size=(5, 5), stride=(1, 1), padding=(2, 2))\n",
      "    (5): MaxPool2d(kernel_size=2, stride=2, padding=0, dilation=1, ceil_mode=False)\n",
      "    (6): Flatten(start_dim=1, end_dim=-1)\n",
      "    (7): Linear(in_features=1024, out_features=64, bias=True)\n",
      "    (8): Linear(in_features=64, out_features=10, bias=True)\n",
      "  )\n",
      ")\n",
      "tensor([[13.3065, -5.1540, -1.2260,  1.8817,  5.5833, -1.7345, -2.5093, -5.2335,\n",
      "          1.5717, -5.0528]], device='cuda:0')\n",
      "airplane\n"
     ]
    }
   ],
   "source": [
    "import torch\n",
    "import torchvision\n",
    "from PIL import Image\n",
    "from torch.nn.modules.flatten import Flatten\n",
    "\n",
    "# image_path = \"/storage/pt/AW_STUDY/pytorch-tutorial-tudui/imgs/dog.png\"\n",
    "image_path = \"/storage/pt/AW_STUDY/pytorch-tutorial-tudui/imgs/airplane2.png\"\n",
    "# image_path = \"/storage/pt/AW_STUDY/pytorch-tutorial-tudui/imgs/bird.png\"\n",
    "image = Image.open(image_path)\n",
    "# print(dir(image))\n",
    "print(image)\n",
    "\n",
    "# png格式是四通道，除了RGB三通道外，还有一个透明度通道，所以我们需要调用convert('RGB')保留其颜色通道\n",
    "# 如果图片本来就是三个颜色通道，经过此操作，不变。\n",
    "# 加上这一步后，可以适应png jpg各种格式的图片。\n",
    "image = image.convert('RGB') # 有了这句就不会报错(这里还好本身就是rgb，没有这句也不会报错);\n",
    "\n",
    "transform = torchvision.transforms.Compose([torchvision.transforms.Resize((32, 32)),\n",
    "                                            torchvision.transforms.ToTensor()])\n",
    "# 判断是否可用cuda\n",
    "device = torch.device('cuda' if torch.cuda.is_available() else 'cpu')\n",
    "\n",
    "image = transform(image).to(device)\n",
    "print(image.shape)\n",
    "\n",
    "from model import Tudui\n",
    "# model = torch.load(\"/storage/pt/AW_STUDY/pytorch-tutorial-tudui/study_self/P25-_train_all/model_pth/gpu_2_tudui_9.pth\")\n",
    "model = torch.load(\"/storage/pt/AW_STUDY/pytorch-tutorial-tudui/study_self/P25-_train_all/model_pth/gpu_4_tudui_9.pth\")\n",
    "print(model)\n",
    "image = torch.reshape(image, (1,3,32,32))\n",
    "\n",
    "model.eval()\n",
    "with torch.no_grad():\n",
    "    output = model(image)\n",
    "print(output)\n",
    "idx = output.argmax(1)\n",
    "classes = ['airplane', 'automobile', 'bird', 'cat', 'deer', 'dog', 'frog', 'horse', 'ship', 'truck']\n",
    "print(classes[idx])\n"
   ]
  }
 ],
 "metadata": {
  "kernelspec": {
   "display_name": "yolov5_frog38",
   "language": "python",
   "name": "python3"
  },
  "language_info": {
   "codemirror_mode": {
    "name": "ipython",
    "version": 3
   },
   "file_extension": ".py",
   "mimetype": "text/x-python",
   "name": "python",
   "nbconvert_exporter": "python",
   "pygments_lexer": "ipython3",
   "version": "3.8.18"
  }
 },
 "nbformat": 4,
 "nbformat_minor": 2
}
